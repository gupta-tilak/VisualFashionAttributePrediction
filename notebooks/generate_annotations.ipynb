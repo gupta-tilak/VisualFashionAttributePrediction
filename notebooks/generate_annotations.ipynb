{
 "cells": [
  {
   "cell_type": "code",
   "execution_count": 4,
   "metadata": {},
   "outputs": [
    {
     "name": "stdout",
     "output_type": "stream",
     "text": [
      "JSON file with annotations created successfully!\n"
     ]
    }
   ],
   "source": [
    "import pandas as pd\n",
    "import json\n",
    "\n",
    "# Load the train.csv, parquet file, and attribute_mapping.csv\n",
    "df_train = pd.read_csv('/Users/guptatilak/Documents/visual-taxonomy-meesho/VisualFashionAttributePrediction/Data/iMaterialist/train.csv')\n",
    "df_parquet = pd.read_parquet('/Users/guptatilak/Documents/visual-taxonomy-meesho/VisualFashionAttributePrediction/Data/iMaterialist/category_attributes.parquet')\n",
    "df_mapping = pd.read_csv('/Users/guptatilak/Documents/visual-taxonomy-meesho/VisualFashionAttributePrediction/Data/iMaterialist/attribute_mapping.csv')\n",
    "\n",
    "# Normalize case and strip any whitespaces in the mapping file to avoid issues\n",
    "df_mapping['taskName'] = df_mapping['taskName'].str.strip().str.lower()\n",
    "df_mapping['labelName'] = df_mapping['labelName'].str.strip().str.lower()\n",
    "\n",
    "# Create a dictionary to map taskName (attribute description) to labelId for faster lookup\n",
    "task_label_mapping = df_mapping.set_index(['taskName', 'labelName'])['labelId'].to_dict()\n",
    "\n",
    "# Normalize case and strip any whitespaces in the parquet file for attribute matching\n",
    "df_parquet['Attribute_list'] = df_parquet['Attribute_list'].apply(lambda x: [attr.strip().lower() for attr in x])\n",
    "\n",
    "# Create a dictionary to map category to attribute list (from the parquet file)\n",
    "category_attributes = df_parquet.set_index('Category')['Attribute_list'].to_dict()\n",
    "\n",
    "# Create the list of image dictionaries and annotations\n",
    "images_list = []\n",
    "annotations_list = []\n",
    "\n",
    "# Process each row in the train.csv\n",
    "for index, row in df_train.iterrows():\n",
    "    category = row['Category']\n",
    "    \n",
    "    # Get the attribute list for the current category from the parquet file\n",
    "    attribute_list = category_attributes.get(category, [])\n",
    "    \n",
    "    # Append the image info\n",
    "    image_dict = {\n",
    "        \"url\": \"https://example.com/random_image.jpg\",  # Replace with a random URL\n",
    "        \"imageId\": str(row['id']).zfill(6)  # Extract the imageId from train.csv\n",
    "    }\n",
    "    images_list.append(image_dict)\n",
    "\n",
    "    # Normalize case and strip any whitespaces in train.csv attribute values\n",
    "    label_ids = []\n",
    "    for attr_col, task_name in zip(\n",
    "        ['attr_1', 'attr_2', 'attr_3', 'attr_4', 'attr_5', 'attr_6', 'attr_7', 'attr_8', 'attr_9', 'attr_10'], \n",
    "        attribute_list\n",
    "    ):\n",
    "        attr_value = row[attr_col].strip().lower() if pd.notna(row[attr_col]) else None\n",
    "        \n",
    "        # Ensure proper mapping and handle missing task_name cases\n",
    "        if attr_value and (task_name, attr_value) in task_label_mapping:\n",
    "            label_ids.append(str(task_label_mapping[(task_name, attr_value)]))\n",
    "        elif attr_value:\n",
    "            print(f\"Warning: TaskName '{task_name}' with value '{attr_value}' not found in mapping!\")\n",
    "\n",
    "    # Append the annotation info\n",
    "    annotation_dict = {\n",
    "        \"labelId\": label_ids,\n",
    "        \"imageId\": str(row['id']).zfill(6)  # Match the imageId\n",
    "    }\n",
    "    annotations_list.append(annotation_dict)\n",
    "\n",
    "# Structure as per your requirement\n",
    "output_data = {\n",
    "    \"images\": images_list,\n",
    "    \"annotations\": annotations_list\n",
    "}\n",
    "\n",
    "# Save the structure to a JSON file\n",
    "with open('/Users/guptatilak/Documents/visual-taxonomy-meesho/VisualFashionAttributePrediction/Data/iMaterialist/images_data_with_annotations.json', 'w') as json_file:\n",
    "    json.dump(output_data, json_file, indent=4)\n",
    "\n",
    "print(\"JSON file with annotations created successfully!\")\n"
   ]
  }
 ],
 "metadata": {
  "kernelspec": {
   "display_name": "base",
   "language": "python",
   "name": "python3"
  },
  "language_info": {
   "codemirror_mode": {
    "name": "ipython",
    "version": 3
   },
   "file_extension": ".py",
   "mimetype": "text/x-python",
   "name": "python",
   "nbconvert_exporter": "python",
   "pygments_lexer": "ipython3",
   "version": "3.10.9"
  }
 },
 "nbformat": 4,
 "nbformat_minor": 2
}
