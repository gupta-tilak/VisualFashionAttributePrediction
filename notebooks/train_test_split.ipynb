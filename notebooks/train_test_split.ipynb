{
 "cells": [
  {
   "cell_type": "code",
   "execution_count": 3,
   "metadata": {},
   "outputs": [
    {
     "name": "stdout",
     "output_type": "stream",
     "text": [
      "Train and validation JSON files created successfully!\n"
     ]
    }
   ],
   "source": [
    "import json\n",
    "import random\n",
    "\n",
    "# Load the generated JSON file\n",
    "with open('/Users/guptatilak/Documents/visual-taxonomy-meesho/VisualFashionAttributePrediction/Data/iMaterialist/images_data_with_annotations.json', 'r') as json_file:\n",
    "    data = json.load(json_file)\n",
    "\n",
    "# Set the ratio for train-validation split (80% train, 20% validation)\n",
    "split_ratio = 0.2\n",
    "\n",
    "# Ensure both images and annotations are sorted by the same 'imageId'\n",
    "images = sorted(data['images'], key=lambda x: x['imageId'])\n",
    "annotations = sorted(data['annotations'], key=lambda x: x['imageId'])\n",
    "\n",
    "# Combine the image and annotation pairs to ensure they are split together\n",
    "image_annotation_pairs = list(zip(images, annotations))\n",
    "\n",
    "# Shuffle the pairs randomly to avoid any ordering bias\n",
    "random.shuffle(image_annotation_pairs)\n",
    "\n",
    "# Calculate the split index based on the ratio\n",
    "split_index = int(len(image_annotation_pairs) * (1 - split_ratio))\n",
    "\n",
    "# Split the data into train and validation sets\n",
    "train_pairs = image_annotation_pairs[:split_index]\n",
    "val_pairs = image_annotation_pairs[split_index:]\n",
    "\n",
    "# Unzip the train and validation pairs back into separate image and annotation lists\n",
    "train_images, train_annotations = zip(*train_pairs)\n",
    "val_images, val_annotations = zip(*val_pairs)\n",
    "\n",
    "# Structure the train and validation data\n",
    "train_data = {\n",
    "    \"images\": list(train_images),\n",
    "    \"annotations\": list(train_annotations)\n",
    "}\n",
    "\n",
    "val_data = {\n",
    "    \"images\": list(val_images),\n",
    "    \"annotations\": list(val_annotations)\n",
    "}\n",
    "\n",
    "# Save the train and validation sets to separate JSON files\n",
    "with open('/Users/guptatilak/Documents/visual-taxonomy-meesho/VisualFashionAttributePrediction/Data/iMaterialist/train.json', 'w') as train_file:\n",
    "    json.dump(train_data, train_file, indent=4)\n",
    "\n",
    "with open('/Users/guptatilak/Documents/visual-taxonomy-meesho/VisualFashionAttributePrediction/Data/iMaterialist/validation.json', 'w') as val_file:\n",
    "    json.dump(val_data, val_file, indent=4)\n",
    "\n",
    "print(\"Train and validation JSON files created successfully!\")\n"
   ]
  }
 ],
 "metadata": {
  "kernelspec": {
   "display_name": "base",
   "language": "python",
   "name": "python3"
  },
  "language_info": {
   "codemirror_mode": {
    "name": "ipython",
    "version": 3
   },
   "file_extension": ".py",
   "mimetype": "text/x-python",
   "name": "python",
   "nbconvert_exporter": "python",
   "pygments_lexer": "ipython3",
   "version": "3.10.9"
  }
 },
 "nbformat": 4,
 "nbformat_minor": 2
}
